{
  "nbformat": 4,
  "nbformat_minor": 0,
  "metadata": {
    "colab": {
      "provenance": []
    },
    "kernelspec": {
      "name": "python3",
      "display_name": "Python 3"
    },
    "language_info": {
      "name": "python"
    }
  },
  "cells": [
    {
      "cell_type": "code",
      "source": [
        "from google.colab import drive\n",
        "drive.mount('/content/drive')"
      ],
      "metadata": {
        "colab": {
          "base_uri": "https://localhost:8080/"
        },
        "id": "N_1OIJFP_jUS",
        "outputId": "b01fa465-b17e-4c63-b377-ae5419694929"
      },
      "execution_count": 13,
      "outputs": [
        {
          "output_type": "stream",
          "name": "stdout",
          "text": [
            "Drive already mounted at /content/drive; to attempt to forcibly remount, call drive.mount(\"/content/drive\", force_remount=True).\n"
          ]
        }
      ]
    },
    {
      "cell_type": "code",
      "source": [
        "!pip install category_encoders"
      ],
      "metadata": {
        "colab": {
          "base_uri": "https://localhost:8080/"
        },
        "id": "AyyAhDXeAenV",
        "outputId": "8b52493a-c78c-42da-91db-1ae09c265c57"
      },
      "execution_count": 14,
      "outputs": [
        {
          "output_type": "stream",
          "name": "stdout",
          "text": [
            "Requirement already satisfied: category_encoders in /usr/local/lib/python3.11/dist-packages (2.8.1)\n",
            "Requirement already satisfied: numpy>=1.14.0 in /usr/local/lib/python3.11/dist-packages (from category_encoders) (2.0.2)\n",
            "Requirement already satisfied: pandas>=1.0.5 in /usr/local/lib/python3.11/dist-packages (from category_encoders) (2.2.2)\n",
            "Requirement already satisfied: patsy>=0.5.1 in /usr/local/lib/python3.11/dist-packages (from category_encoders) (1.0.1)\n",
            "Requirement already satisfied: scikit-learn>=1.6.0 in /usr/local/lib/python3.11/dist-packages (from category_encoders) (1.6.1)\n",
            "Requirement already satisfied: scipy>=1.0.0 in /usr/local/lib/python3.11/dist-packages (from category_encoders) (1.15.2)\n",
            "Requirement already satisfied: statsmodels>=0.9.0 in /usr/local/lib/python3.11/dist-packages (from category_encoders) (0.14.4)\n",
            "Requirement already satisfied: python-dateutil>=2.8.2 in /usr/local/lib/python3.11/dist-packages (from pandas>=1.0.5->category_encoders) (2.9.0.post0)\n",
            "Requirement already satisfied: pytz>=2020.1 in /usr/local/lib/python3.11/dist-packages (from pandas>=1.0.5->category_encoders) (2025.2)\n",
            "Requirement already satisfied: tzdata>=2022.7 in /usr/local/lib/python3.11/dist-packages (from pandas>=1.0.5->category_encoders) (2025.2)\n",
            "Requirement already satisfied: joblib>=1.2.0 in /usr/local/lib/python3.11/dist-packages (from scikit-learn>=1.6.0->category_encoders) (1.4.2)\n",
            "Requirement already satisfied: threadpoolctl>=3.1.0 in /usr/local/lib/python3.11/dist-packages (from scikit-learn>=1.6.0->category_encoders) (3.6.0)\n",
            "Requirement already satisfied: packaging>=21.3 in /usr/local/lib/python3.11/dist-packages (from statsmodels>=0.9.0->category_encoders) (24.2)\n",
            "Requirement already satisfied: six>=1.5 in /usr/local/lib/python3.11/dist-packages (from python-dateutil>=2.8.2->pandas>=1.0.5->category_encoders) (1.17.0)\n"
          ]
        }
      ]
    },
    {
      "cell_type": "code",
      "execution_count": 15,
      "metadata": {
        "id": "AOKRmEDLvdMv"
      },
      "outputs": [],
      "source": [
        "import pandas as pd\n",
        "import numpy as np\n",
        "import matplotlib.pyplot as plt\n",
        "import seaborn as sns\n",
        "from sklearn.preprocessing import StandardScaler, OneHotEncoder\n",
        "from sklearn.compose import ColumnTransformer\n",
        "from sklearn.pipeline import Pipeline\n",
        "from sklearn.impute import SimpleImputer, KNNImputer\n",
        "from sklearn.metrics import mean_absolute_error, mean_squared_error, r2_score\n",
        "from sklearn.ensemble import RandomForestRegressor, GradientBoostingRegressor\n",
        "import lightgbm as lgb\n",
        "import xgboost as xgb\n",
        "import shap\n",
        "import category_encoders as ce\n",
        "import warnings\n",
        "warnings.filterwarnings('ignore')\n"
      ]
    },
    {
      "cell_type": "code",
      "source": [
        "train_df = pd.read_csv(\"/content/drive/MyDrive/DS Projects/WiDS/widsdatathon2024-challenge2/train.csv\")\n",
        "test_df = pd.read_csv(\"/content/drive/MyDrive/DS Projects/WiDS/widsdatathon2024-challenge2/test.csv\")"
      ],
      "metadata": {
        "id": "DMDN-MyM-y4a"
      },
      "execution_count": 16,
      "outputs": []
    },
    {
      "cell_type": "code",
      "source": [
        "print(f\"Train dataset shape: {train_df.shape}\")\n",
        "print(f\"Test dataset shape: {test_df.shape}\")"
      ],
      "metadata": {
        "colab": {
          "base_uri": "https://localhost:8080/"
        },
        "id": "SBNJX_mh_bxS",
        "outputId": "2abe0896-1067-4c70-ed31-f800f3aa944b"
      },
      "execution_count": 17,
      "outputs": [
        {
          "output_type": "stream",
          "name": "stdout",
          "text": [
            "Train dataset shape: (13173, 152)\n",
            "Test dataset shape: (5646, 151)\n"
          ]
        }
      ]
    },
    {
      "cell_type": "code",
      "source": [
        "train_df.head()"
      ],
      "metadata": {
        "colab": {
          "base_uri": "https://localhost:8080/",
          "height": 359
        },
        "id": "dNfAqxykBFJX",
        "outputId": "596ff6ba-670e-4561-eca5-6d44a075b420"
      },
      "execution_count": 18,
      "outputs": [
        {
          "output_type": "execute_result",
          "data": {
            "text/plain": [
              "   patient_id patient_race  payer_type patient_state  patient_zip3   Region  \\\n",
              "0      268700          NaN  COMMERCIAL            AR           724    South   \n",
              "1      484983        White         NaN            IL           629  Midwest   \n",
              "2      277055          NaN  COMMERCIAL            CA           925     West   \n",
              "3      320055     Hispanic    MEDICAID            CA           900     West   \n",
              "4      190386          NaN  COMMERCIAL            CA           934     West   \n",
              "\n",
              "             Division  patient_age patient_gender    bmi  ...  \\\n",
              "0  West South Central           39              F    NaN  ...   \n",
              "1  East North Central           55              F  35.36  ...   \n",
              "2             Pacific           59              F    NaN  ...   \n",
              "3             Pacific           59              F    NaN  ...   \n",
              "4             Pacific           71              F    NaN  ...   \n",
              "\n",
              "  Average of Apr-18 Average of May-18 Average of Jun-18 Average of Jul-18  \\\n",
              "0             52.55             74.77             79.96             81.69   \n",
              "1             49.30             72.87             77.40             77.43   \n",
              "2             68.50             70.31             78.61             87.24   \n",
              "3             63.34             63.10             67.45             75.86   \n",
              "4             59.45             60.24             64.77             69.81   \n",
              "\n",
              "  Average of Aug-18  Average of Sep-18  Average of Oct-18  Average of Nov-18  \\\n",
              "0             78.30              74.56              59.98              42.98   \n",
              "1             75.83              72.64              58.36              39.68   \n",
              "2             85.52              80.75              70.81              62.67   \n",
              "3             75.24              71.10              68.95              65.46   \n",
              "4             70.13              68.10              65.38              60.72   \n",
              "\n",
              "   Average of Dec-18  metastatic_diagnosis_period  \n",
              "0              41.18                          191  \n",
              "1              39.71                           33  \n",
              "2              55.58                          157  \n",
              "3              59.46                          146  \n",
              "4              54.08                          286  \n",
              "\n",
              "[5 rows x 152 columns]"
            ],
            "text/html": [
              "\n",
              "  <div id=\"df-8ffde917-77e1-410e-946e-e46cfb29228e\" class=\"colab-df-container\">\n",
              "    <div>\n",
              "<style scoped>\n",
              "    .dataframe tbody tr th:only-of-type {\n",
              "        vertical-align: middle;\n",
              "    }\n",
              "\n",
              "    .dataframe tbody tr th {\n",
              "        vertical-align: top;\n",
              "    }\n",
              "\n",
              "    .dataframe thead th {\n",
              "        text-align: right;\n",
              "    }\n",
              "</style>\n",
              "<table border=\"1\" class=\"dataframe\">\n",
              "  <thead>\n",
              "    <tr style=\"text-align: right;\">\n",
              "      <th></th>\n",
              "      <th>patient_id</th>\n",
              "      <th>patient_race</th>\n",
              "      <th>payer_type</th>\n",
              "      <th>patient_state</th>\n",
              "      <th>patient_zip3</th>\n",
              "      <th>Region</th>\n",
              "      <th>Division</th>\n",
              "      <th>patient_age</th>\n",
              "      <th>patient_gender</th>\n",
              "      <th>bmi</th>\n",
              "      <th>...</th>\n",
              "      <th>Average of Apr-18</th>\n",
              "      <th>Average of May-18</th>\n",
              "      <th>Average of Jun-18</th>\n",
              "      <th>Average of Jul-18</th>\n",
              "      <th>Average of Aug-18</th>\n",
              "      <th>Average of Sep-18</th>\n",
              "      <th>Average of Oct-18</th>\n",
              "      <th>Average of Nov-18</th>\n",
              "      <th>Average of Dec-18</th>\n",
              "      <th>metastatic_diagnosis_period</th>\n",
              "    </tr>\n",
              "  </thead>\n",
              "  <tbody>\n",
              "    <tr>\n",
              "      <th>0</th>\n",
              "      <td>268700</td>\n",
              "      <td>NaN</td>\n",
              "      <td>COMMERCIAL</td>\n",
              "      <td>AR</td>\n",
              "      <td>724</td>\n",
              "      <td>South</td>\n",
              "      <td>West South Central</td>\n",
              "      <td>39</td>\n",
              "      <td>F</td>\n",
              "      <td>NaN</td>\n",
              "      <td>...</td>\n",
              "      <td>52.55</td>\n",
              "      <td>74.77</td>\n",
              "      <td>79.96</td>\n",
              "      <td>81.69</td>\n",
              "      <td>78.30</td>\n",
              "      <td>74.56</td>\n",
              "      <td>59.98</td>\n",
              "      <td>42.98</td>\n",
              "      <td>41.18</td>\n",
              "      <td>191</td>\n",
              "    </tr>\n",
              "    <tr>\n",
              "      <th>1</th>\n",
              "      <td>484983</td>\n",
              "      <td>White</td>\n",
              "      <td>NaN</td>\n",
              "      <td>IL</td>\n",
              "      <td>629</td>\n",
              "      <td>Midwest</td>\n",
              "      <td>East North Central</td>\n",
              "      <td>55</td>\n",
              "      <td>F</td>\n",
              "      <td>35.36</td>\n",
              "      <td>...</td>\n",
              "      <td>49.30</td>\n",
              "      <td>72.87</td>\n",
              "      <td>77.40</td>\n",
              "      <td>77.43</td>\n",
              "      <td>75.83</td>\n",
              "      <td>72.64</td>\n",
              "      <td>58.36</td>\n",
              "      <td>39.68</td>\n",
              "      <td>39.71</td>\n",
              "      <td>33</td>\n",
              "    </tr>\n",
              "    <tr>\n",
              "      <th>2</th>\n",
              "      <td>277055</td>\n",
              "      <td>NaN</td>\n",
              "      <td>COMMERCIAL</td>\n",
              "      <td>CA</td>\n",
              "      <td>925</td>\n",
              "      <td>West</td>\n",
              "      <td>Pacific</td>\n",
              "      <td>59</td>\n",
              "      <td>F</td>\n",
              "      <td>NaN</td>\n",
              "      <td>...</td>\n",
              "      <td>68.50</td>\n",
              "      <td>70.31</td>\n",
              "      <td>78.61</td>\n",
              "      <td>87.24</td>\n",
              "      <td>85.52</td>\n",
              "      <td>80.75</td>\n",
              "      <td>70.81</td>\n",
              "      <td>62.67</td>\n",
              "      <td>55.58</td>\n",
              "      <td>157</td>\n",
              "    </tr>\n",
              "    <tr>\n",
              "      <th>3</th>\n",
              "      <td>320055</td>\n",
              "      <td>Hispanic</td>\n",
              "      <td>MEDICAID</td>\n",
              "      <td>CA</td>\n",
              "      <td>900</td>\n",
              "      <td>West</td>\n",
              "      <td>Pacific</td>\n",
              "      <td>59</td>\n",
              "      <td>F</td>\n",
              "      <td>NaN</td>\n",
              "      <td>...</td>\n",
              "      <td>63.34</td>\n",
              "      <td>63.10</td>\n",
              "      <td>67.45</td>\n",
              "      <td>75.86</td>\n",
              "      <td>75.24</td>\n",
              "      <td>71.10</td>\n",
              "      <td>68.95</td>\n",
              "      <td>65.46</td>\n",
              "      <td>59.46</td>\n",
              "      <td>146</td>\n",
              "    </tr>\n",
              "    <tr>\n",
              "      <th>4</th>\n",
              "      <td>190386</td>\n",
              "      <td>NaN</td>\n",
              "      <td>COMMERCIAL</td>\n",
              "      <td>CA</td>\n",
              "      <td>934</td>\n",
              "      <td>West</td>\n",
              "      <td>Pacific</td>\n",
              "      <td>71</td>\n",
              "      <td>F</td>\n",
              "      <td>NaN</td>\n",
              "      <td>...</td>\n",
              "      <td>59.45</td>\n",
              "      <td>60.24</td>\n",
              "      <td>64.77</td>\n",
              "      <td>69.81</td>\n",
              "      <td>70.13</td>\n",
              "      <td>68.10</td>\n",
              "      <td>65.38</td>\n",
              "      <td>60.72</td>\n",
              "      <td>54.08</td>\n",
              "      <td>286</td>\n",
              "    </tr>\n",
              "  </tbody>\n",
              "</table>\n",
              "<p>5 rows × 152 columns</p>\n",
              "</div>\n",
              "    <div class=\"colab-df-buttons\">\n",
              "\n",
              "  <div class=\"colab-df-container\">\n",
              "    <button class=\"colab-df-convert\" onclick=\"convertToInteractive('df-8ffde917-77e1-410e-946e-e46cfb29228e')\"\n",
              "            title=\"Convert this dataframe to an interactive table.\"\n",
              "            style=\"display:none;\">\n",
              "\n",
              "  <svg xmlns=\"http://www.w3.org/2000/svg\" height=\"24px\" viewBox=\"0 -960 960 960\">\n",
              "    <path d=\"M120-120v-720h720v720H120Zm60-500h600v-160H180v160Zm220 220h160v-160H400v160Zm0 220h160v-160H400v160ZM180-400h160v-160H180v160Zm440 0h160v-160H620v160ZM180-180h160v-160H180v160Zm440 0h160v-160H620v160Z\"/>\n",
              "  </svg>\n",
              "    </button>\n",
              "\n",
              "  <style>\n",
              "    .colab-df-container {\n",
              "      display:flex;\n",
              "      gap: 12px;\n",
              "    }\n",
              "\n",
              "    .colab-df-convert {\n",
              "      background-color: #E8F0FE;\n",
              "      border: none;\n",
              "      border-radius: 50%;\n",
              "      cursor: pointer;\n",
              "      display: none;\n",
              "      fill: #1967D2;\n",
              "      height: 32px;\n",
              "      padding: 0 0 0 0;\n",
              "      width: 32px;\n",
              "    }\n",
              "\n",
              "    .colab-df-convert:hover {\n",
              "      background-color: #E2EBFA;\n",
              "      box-shadow: 0px 1px 2px rgba(60, 64, 67, 0.3), 0px 1px 3px 1px rgba(60, 64, 67, 0.15);\n",
              "      fill: #174EA6;\n",
              "    }\n",
              "\n",
              "    .colab-df-buttons div {\n",
              "      margin-bottom: 4px;\n",
              "    }\n",
              "\n",
              "    [theme=dark] .colab-df-convert {\n",
              "      background-color: #3B4455;\n",
              "      fill: #D2E3FC;\n",
              "    }\n",
              "\n",
              "    [theme=dark] .colab-df-convert:hover {\n",
              "      background-color: #434B5C;\n",
              "      box-shadow: 0px 1px 3px 1px rgba(0, 0, 0, 0.15);\n",
              "      filter: drop-shadow(0px 1px 2px rgba(0, 0, 0, 0.3));\n",
              "      fill: #FFFFFF;\n",
              "    }\n",
              "  </style>\n",
              "\n",
              "    <script>\n",
              "      const buttonEl =\n",
              "        document.querySelector('#df-8ffde917-77e1-410e-946e-e46cfb29228e button.colab-df-convert');\n",
              "      buttonEl.style.display =\n",
              "        google.colab.kernel.accessAllowed ? 'block' : 'none';\n",
              "\n",
              "      async function convertToInteractive(key) {\n",
              "        const element = document.querySelector('#df-8ffde917-77e1-410e-946e-e46cfb29228e');\n",
              "        const dataTable =\n",
              "          await google.colab.kernel.invokeFunction('convertToInteractive',\n",
              "                                                    [key], {});\n",
              "        if (!dataTable) return;\n",
              "\n",
              "        const docLinkHtml = 'Like what you see? Visit the ' +\n",
              "          '<a target=\"_blank\" href=https://colab.research.google.com/notebooks/data_table.ipynb>data table notebook</a>'\n",
              "          + ' to learn more about interactive tables.';\n",
              "        element.innerHTML = '';\n",
              "        dataTable['output_type'] = 'display_data';\n",
              "        await google.colab.output.renderOutput(dataTable, element);\n",
              "        const docLink = document.createElement('div');\n",
              "        docLink.innerHTML = docLinkHtml;\n",
              "        element.appendChild(docLink);\n",
              "      }\n",
              "    </script>\n",
              "  </div>\n",
              "\n",
              "\n",
              "    <div id=\"df-220c1428-521c-4902-8e5f-96a2d1b8e2b4\">\n",
              "      <button class=\"colab-df-quickchart\" onclick=\"quickchart('df-220c1428-521c-4902-8e5f-96a2d1b8e2b4')\"\n",
              "                title=\"Suggest charts\"\n",
              "                style=\"display:none;\">\n",
              "\n",
              "<svg xmlns=\"http://www.w3.org/2000/svg\" height=\"24px\"viewBox=\"0 0 24 24\"\n",
              "     width=\"24px\">\n",
              "    <g>\n",
              "        <path d=\"M19 3H5c-1.1 0-2 .9-2 2v14c0 1.1.9 2 2 2h14c1.1 0 2-.9 2-2V5c0-1.1-.9-2-2-2zM9 17H7v-7h2v7zm4 0h-2V7h2v10zm4 0h-2v-4h2v4z\"/>\n",
              "    </g>\n",
              "</svg>\n",
              "      </button>\n",
              "\n",
              "<style>\n",
              "  .colab-df-quickchart {\n",
              "      --bg-color: #E8F0FE;\n",
              "      --fill-color: #1967D2;\n",
              "      --hover-bg-color: #E2EBFA;\n",
              "      --hover-fill-color: #174EA6;\n",
              "      --disabled-fill-color: #AAA;\n",
              "      --disabled-bg-color: #DDD;\n",
              "  }\n",
              "\n",
              "  [theme=dark] .colab-df-quickchart {\n",
              "      --bg-color: #3B4455;\n",
              "      --fill-color: #D2E3FC;\n",
              "      --hover-bg-color: #434B5C;\n",
              "      --hover-fill-color: #FFFFFF;\n",
              "      --disabled-bg-color: #3B4455;\n",
              "      --disabled-fill-color: #666;\n",
              "  }\n",
              "\n",
              "  .colab-df-quickchart {\n",
              "    background-color: var(--bg-color);\n",
              "    border: none;\n",
              "    border-radius: 50%;\n",
              "    cursor: pointer;\n",
              "    display: none;\n",
              "    fill: var(--fill-color);\n",
              "    height: 32px;\n",
              "    padding: 0;\n",
              "    width: 32px;\n",
              "  }\n",
              "\n",
              "  .colab-df-quickchart:hover {\n",
              "    background-color: var(--hover-bg-color);\n",
              "    box-shadow: 0 1px 2px rgba(60, 64, 67, 0.3), 0 1px 3px 1px rgba(60, 64, 67, 0.15);\n",
              "    fill: var(--button-hover-fill-color);\n",
              "  }\n",
              "\n",
              "  .colab-df-quickchart-complete:disabled,\n",
              "  .colab-df-quickchart-complete:disabled:hover {\n",
              "    background-color: var(--disabled-bg-color);\n",
              "    fill: var(--disabled-fill-color);\n",
              "    box-shadow: none;\n",
              "  }\n",
              "\n",
              "  .colab-df-spinner {\n",
              "    border: 2px solid var(--fill-color);\n",
              "    border-color: transparent;\n",
              "    border-bottom-color: var(--fill-color);\n",
              "    animation:\n",
              "      spin 1s steps(1) infinite;\n",
              "  }\n",
              "\n",
              "  @keyframes spin {\n",
              "    0% {\n",
              "      border-color: transparent;\n",
              "      border-bottom-color: var(--fill-color);\n",
              "      border-left-color: var(--fill-color);\n",
              "    }\n",
              "    20% {\n",
              "      border-color: transparent;\n",
              "      border-left-color: var(--fill-color);\n",
              "      border-top-color: var(--fill-color);\n",
              "    }\n",
              "    30% {\n",
              "      border-color: transparent;\n",
              "      border-left-color: var(--fill-color);\n",
              "      border-top-color: var(--fill-color);\n",
              "      border-right-color: var(--fill-color);\n",
              "    }\n",
              "    40% {\n",
              "      border-color: transparent;\n",
              "      border-right-color: var(--fill-color);\n",
              "      border-top-color: var(--fill-color);\n",
              "    }\n",
              "    60% {\n",
              "      border-color: transparent;\n",
              "      border-right-color: var(--fill-color);\n",
              "    }\n",
              "    80% {\n",
              "      border-color: transparent;\n",
              "      border-right-color: var(--fill-color);\n",
              "      border-bottom-color: var(--fill-color);\n",
              "    }\n",
              "    90% {\n",
              "      border-color: transparent;\n",
              "      border-bottom-color: var(--fill-color);\n",
              "    }\n",
              "  }\n",
              "</style>\n",
              "\n",
              "      <script>\n",
              "        async function quickchart(key) {\n",
              "          const quickchartButtonEl =\n",
              "            document.querySelector('#' + key + ' button');\n",
              "          quickchartButtonEl.disabled = true;  // To prevent multiple clicks.\n",
              "          quickchartButtonEl.classList.add('colab-df-spinner');\n",
              "          try {\n",
              "            const charts = await google.colab.kernel.invokeFunction(\n",
              "                'suggestCharts', [key], {});\n",
              "          } catch (error) {\n",
              "            console.error('Error during call to suggestCharts:', error);\n",
              "          }\n",
              "          quickchartButtonEl.classList.remove('colab-df-spinner');\n",
              "          quickchartButtonEl.classList.add('colab-df-quickchart-complete');\n",
              "        }\n",
              "        (() => {\n",
              "          let quickchartButtonEl =\n",
              "            document.querySelector('#df-220c1428-521c-4902-8e5f-96a2d1b8e2b4 button');\n",
              "          quickchartButtonEl.style.display =\n",
              "            google.colab.kernel.accessAllowed ? 'block' : 'none';\n",
              "        })();\n",
              "      </script>\n",
              "    </div>\n",
              "\n",
              "    </div>\n",
              "  </div>\n"
            ],
            "application/vnd.google.colaboratory.intrinsic+json": {
              "type": "dataframe",
              "variable_name": "train_df"
            }
          },
          "metadata": {},
          "execution_count": 18
        }
      ]
    },
    {
      "cell_type": "code",
      "source": [
        " # Check for missing values in target\n",
        "missing_target = train_df['metastatic_diagnosis_period'].isnull().sum()\n",
        "if missing_target > 0:\n",
        "  print(f\"\\nWarning: {missing_target} missing values in target variable\")"
      ],
      "metadata": {
        "id": "mCsXLO6HBapK"
      },
      "execution_count": 19,
      "outputs": []
    },
    {
      "cell_type": "code",
      "source": [
        "train_df['metastatic_diagnosis_period'].describe()"
      ],
      "metadata": {
        "colab": {
          "base_uri": "https://localhost:8080/",
          "height": 335
        },
        "id": "_cvBYj32BuQV",
        "outputId": "32e6a076-5dc3-4910-c295-8c8d3ce471cc"
      },
      "execution_count": 20,
      "outputs": [
        {
          "output_type": "execute_result",
          "data": {
            "text/plain": [
              "count    13173.000000\n",
              "mean        96.515221\n",
              "std        108.969873\n",
              "min          0.000000\n",
              "25%          3.000000\n",
              "50%         44.000000\n",
              "75%        181.000000\n",
              "max        365.000000\n",
              "Name: metastatic_diagnosis_period, dtype: float64"
            ],
            "text/html": [
              "<div>\n",
              "<style scoped>\n",
              "    .dataframe tbody tr th:only-of-type {\n",
              "        vertical-align: middle;\n",
              "    }\n",
              "\n",
              "    .dataframe tbody tr th {\n",
              "        vertical-align: top;\n",
              "    }\n",
              "\n",
              "    .dataframe thead th {\n",
              "        text-align: right;\n",
              "    }\n",
              "</style>\n",
              "<table border=\"1\" class=\"dataframe\">\n",
              "  <thead>\n",
              "    <tr style=\"text-align: right;\">\n",
              "      <th></th>\n",
              "      <th>metastatic_diagnosis_period</th>\n",
              "    </tr>\n",
              "  </thead>\n",
              "  <tbody>\n",
              "    <tr>\n",
              "      <th>count</th>\n",
              "      <td>13173.000000</td>\n",
              "    </tr>\n",
              "    <tr>\n",
              "      <th>mean</th>\n",
              "      <td>96.515221</td>\n",
              "    </tr>\n",
              "    <tr>\n",
              "      <th>std</th>\n",
              "      <td>108.969873</td>\n",
              "    </tr>\n",
              "    <tr>\n",
              "      <th>min</th>\n",
              "      <td>0.000000</td>\n",
              "    </tr>\n",
              "    <tr>\n",
              "      <th>25%</th>\n",
              "      <td>3.000000</td>\n",
              "    </tr>\n",
              "    <tr>\n",
              "      <th>50%</th>\n",
              "      <td>44.000000</td>\n",
              "    </tr>\n",
              "    <tr>\n",
              "      <th>75%</th>\n",
              "      <td>181.000000</td>\n",
              "    </tr>\n",
              "    <tr>\n",
              "      <th>max</th>\n",
              "      <td>365.000000</td>\n",
              "    </tr>\n",
              "  </tbody>\n",
              "</table>\n",
              "</div><br><label><b>dtype:</b> float64</label>"
            ]
          },
          "metadata": {},
          "execution_count": 20
        }
      ]
    },
    {
      "cell_type": "code",
      "source": [
        "# Visualize target distribution\n",
        "plt.figure(figsize=(12, 6))\n",
        "plt.subplot(1, 2, 1)\n",
        "sns.histplot(train_df['metastatic_diagnosis_period'].dropna(), kde=True)\n",
        "plt.title('Distribution of Metastatic Diagnosis Period')\n",
        "plt.xlabel('Days')\n",
        "\n",
        "plt.subplot(1, 2, 2)\n",
        "sns.boxplot(y=train_df['metastatic_diagnosis_period'].dropna())\n",
        "plt.title('Boxplot of Metastatic Diagnosis Period')\n",
        "plt.tight_layout()\n",
        "plt.show()\n"
      ],
      "metadata": {
        "colab": {
          "base_uri": "https://localhost:8080/",
          "height": 607
        },
        "id": "1quEs19sB3Yl",
        "outputId": "bc6f816e-e23c-45a5-eeb4-e2e8ad347d83"
      },
      "execution_count": 21,
      "outputs": [
        {
          "output_type": "display_data",
          "data": {
            "text/plain": [
              "<Figure size 1200x600 with 2 Axes>"
            ],
            "image/png": "[encoded data removed]"
          },
          "metadata": {}
        }
      ]
    },
    {
      "cell_type": "markdown",
      "source": [
        "## 2. Advanced Data Preprocessing"
      ],
      "metadata": {
        "id": "GGbon7OUClgg"
      }
    },
    {
      "cell_type": "code",
      "source": [
        "processed_train = train_df.copy()\n",
        "processed_test = test_df.copy()"
      ],
      "metadata": {
        "id": "E9LsW7vQCSTN"
      },
      "execution_count": 22,
      "outputs": []
    },
    {
      "cell_type": "code",
      "source": [
        "# Handle missing values in target if training data\n",
        "if 'metastatic_diagnosis_period' in processed_train.columns and processed_train['metastatic_diagnosis_period'].isnull().sum() > 0:\n",
        "    print(f\"Dropping {processed_train['metastatic_diagnosis_period'].isnull().sum()} rows with missing target values\")\n",
        "    processed_train = processed_train.dropna(subset=['metastatic_diagnosis_period'])"
      ],
      "metadata": {
        "id": "ikMaJizeDenu"
      },
      "execution_count": 23,
      "outputs": []
    },
    {
      "cell_type": "code",
      "source": [
        "# Age groups\n",
        "if 'patient_age' in processed_train.columns:\n",
        "    processed_train['age_group'] = pd.cut(\n",
        "        processed_train['patient_age'],\n",
        "        bins=[0, 40, 50, 60, 70, 80, 120],\n",
        "        labels=['Under 40', '40-50', '50-60', '60-70', '70-80', 'Over 80']\n",
        "    )"
      ],
      "metadata": {
        "id": "w7tZ3VxxD557"
      },
      "execution_count": 24,
      "outputs": []
    },
    {
      "cell_type": "code",
      "source": [
        "# Extract information from diagnosis codes\n",
        "if 'breast_cancer_diagnosis_code' in processed_train.columns:\n",
        "    processed_train['diagnosis_code_prefix'] = processed_train['breast_cancer_diagnosis_code'].astype(str).str[:3]\n",
        "\n",
        "if 'metastatic_cancer_diagnosis_code' in processed_train.columns:\n",
        "    processed_train['metastatic_code_prefix'] = processed_train['metastatic_cancer_diagnosis_code'].astype(str).str[:3]\n",
        "\n",
        "# Create socioeconomic status indicator\n",
        "if all(col in processed_train.columns for col in ['income_household_median', 'education_college_or_above']):\n",
        "    # Handle missing values in these columns before normalization\n",
        "    income_median = processed_train['income_household_median'].copy()\n",
        "    if income_median.isnull().any():\n",
        "        income_median = income_median.fillna(income_median.median())\n",
        "\n",
        "    education = processed_train['education_college_or_above'].copy()\n",
        "    if education.isnull().any():\n",
        "        education = education.fillna(education.median())\n",
        "\n",
        "    # Normalize income and education\n",
        "    income_min = income_median.min()\n",
        "    income_max = income_median.max()\n",
        "\n",
        "    if income_max > income_min:  # Prevent division by zero\n",
        "        income_norm = (income_median - income_min) / (income_max - income_min)\n",
        "        education_norm = education / 100  # Assuming education is a percentage\n",
        "\n",
        "        # Simple combined SES score\n",
        "        processed_train['ses_score'] = (income_norm + education_norm) / 2\n",
        "\n",
        "# Calculate temperature variation as potential environmental factor\n",
        "temp_columns = [col for col in processed_train.columns if col.startswith('Average of')]\n",
        "if temp_columns:\n",
        "    processed_train['temp_mean'] = processed_train[temp_columns].mean(axis=1, skipna=True)\n",
        "    processed_train['temp_std'] = processed_train[temp_columns].std(axis=1, skipna=True)\n",
        "    processed_train['temp_range'] = processed_train[temp_columns].max(axis=1, skipna=True) - processed_train[temp_columns].min(axis=1, skipna=True)\n"
      ],
      "metadata": {
        "id": "OLEjfJpsEBrT"
      },
      "execution_count": 25,
      "outputs": []
    },
    {
      "cell_type": "code",
      "source": [
        "if 'patient_age' in processed_test.columns:\n",
        "    processed_test['age_group'] = pd.cut(\n",
        "        processed_test['patient_age'],\n",
        "        bins=[0, 40, 50, 60, 70, 80, 120],\n",
        "        labels=['Under 40', '40-50', '50-60', '60-70', '70-80', 'Over 80']\n",
        "    )\n",
        "\n",
        "# Extract information from diagnosis codes\n",
        "if 'breast_cancer_diagnosis_code' in processed_test.columns:\n",
        "    processed_test['diagnosis_code_prefix'] = processed_test['breast_cancer_diagnosis_code'].astype(str).str[:3]\n",
        "\n",
        "if 'metastatic_cancer_diagnosis_code' in processed_test.columns:\n",
        "    processed_test['metastatic_code_prefix'] = processed_test['metastatic_cancer_diagnosis_code'].astype(str).str[:3]\n",
        "\n",
        "# Create socioeconomic status indicator\n",
        "if all(col in processed_test.columns for col in ['income_household_median', 'education_college_or_above']):\n",
        "    # Handle missing values\n",
        "    income_median = processed_test['income_household_median'].copy()\n",
        "    if income_median.isnull().any():\n",
        "        income_median = income_median.fillna(income_median.median())\n",
        "\n",
        "    education = processed_test['education_college_or_above'].copy()\n",
        "    if education.isnull().any():\n",
        "        education = education.fillna(education.median())\n",
        "\n",
        "    # Normalize using same min/max as train\n",
        "    income_min = processed_train['income_household_median'].min()\n",
        "    income_max = processed_train['income_household_median'].max()\n",
        "\n",
        "    if income_max > income_min:\n",
        "        income_norm = (income_median - income_min) / (income_max - income_min)\n",
        "        education_norm = education / 100\n",
        "        processed_test['ses_score'] = (income_norm + education_norm) / 2\n",
        "\n",
        "# Calculate temperature variation for test\n",
        "if temp_columns:\n",
        "    processed_test['temp_mean'] = processed_test[temp_columns].mean(axis=1, skipna=True)\n",
        "    processed_test['temp_std'] = processed_test[temp_columns].std(axis=1, skipna=True)\n",
        "    processed_test['temp_range'] = processed_test[temp_columns].max(axis=1, skipna=True) - processed_test[temp_columns].min(axis=1, skipna=True)\n"
      ],
      "metadata": {
        "id": "roDlXHdQF01k"
      },
      "execution_count": 26,
      "outputs": []
    },
    {
      "cell_type": "markdown",
      "source": [
        "## 3. Selecting features"
      ],
      "metadata": {
        "id": "Lo0YFGriGjVR"
      }
    },
    {
      "cell_type": "code",
      "source": [
        "# Define feature groups\n",
        "demographic_features = ['patient_age', 'patient_gender', 'patient_race', 'bmi']\n",
        "\n",
        "location_features = [\n",
        "    'patient_state', 'region', 'division',\n",
        "    'population', 'density'\n",
        "]\n",
        "\n",
        "socioeconomic_features = [\n",
        "    'income_household_median', 'education_college_or_above',\n",
        "    'poverty', 'unemployment_rate', 'health_uninsured',\n",
        "    'rent_burden', 'home_ownership'\n",
        "]\n",
        "\n",
        "clinical_features = [\n",
        "    'payer_type', 'metastatic_first_novel_treatment_type',\n",
        "    'diagnosis_code_prefix', 'metastatic_code_prefix'\n",
        "]\n",
        "\n",
        "engineered_features = [\n",
        "    'age_group', 'ses_score', 'temp_mean', 'temp_std', 'temp_range'\n",
        "]\n"
      ],
      "metadata": {
        "id": "BC_S6ysRGmTo"
      },
      "execution_count": 27,
      "outputs": []
    },
    {
      "cell_type": "code",
      "source": [
        "# Filter to only include columns that exist in both dataframes\n",
        "all_features_list = demographic_features + location_features + socioeconomic_features + clinical_features + engineered_features\n",
        "available_features = [f for f in all_features_list if f in processed_train.columns and f in processed_test.columns]"
      ],
      "metadata": {
        "id": "ZmKzx5bEGrrK"
      },
      "execution_count": 28,
      "outputs": []
    },
    {
      "cell_type": "code",
      "source": [
        "# Handle high cardinality ZIP codes with target encoding\n",
        "target_encoder = None\n",
        "if 'patient_zip3' in processed_train.columns and 'patient_zip3' in processed_test.columns:\n",
        "    # Create and fit encoder on training data\n",
        "    target_encoder = ce.TargetEncoder()\n",
        "    target_encoder.fit(processed_train['patient_zip3'], processed_train['metastatic_diagnosis_period'])\n",
        "\n",
        "    # Apply encoding to both train and test\n",
        "    processed_train['zip3_encoded'] = target_encoder.transform(processed_train['patient_zip3'])\n",
        "    processed_test['zip3_encoded'] = target_encoder.transform(processed_test['patient_zip3'])\n",
        "\n",
        "    # Add to available features\n",
        "    available_features.append('zip3_encoded')"
      ],
      "metadata": {
        "colab": {
          "base_uri": "https://localhost:8080/"
        },
        "id": "ow3-tYZUHFQ7",
        "outputId": "2578fe59-bbe7-43a4-e88e-0949c40bc223"
      },
      "execution_count": 29,
      "outputs": [
        {
          "output_type": "stream",
          "name": "stdout",
          "text": [
            "Warning: No categorical columns found. Calling 'transform' will only return input data.\n"
          ]
        }
      ]
    },
    {
      "cell_type": "code",
      "source": [
        "# Remove features with high percentage of missing values in train\n",
        "missing_percentage = processed_train[available_features].isnull().mean()\n",
        "high_missing = missing_percentage[missing_percentage > 0.3].index.tolist()\n",
        "\n",
        "if high_missing:\n",
        "    print(f\"Removing features with >30% missing values: {high_missing}\")\n",
        "    available_features = [f for f in available_features if f not in high_missing]"
      ],
      "metadata": {
        "colab": {
          "base_uri": "https://localhost:8080/"
        },
        "id": "k8Z5s9T3HP2y",
        "outputId": "bd93a6ae-661d-43e9-a736-e2cb70371d99"
      },
      "execution_count": 30,
      "outputs": [
        {
          "output_type": "stream",
          "name": "stdout",
          "text": [
            "Removing features with >30% missing values: ['patient_race', 'bmi', 'metastatic_first_novel_treatment_type']\n"
          ]
        }
      ]
    },
    {
      "cell_type": "code",
      "source": [
        "# Create X datasets\n",
        "X_train = processed_train[available_features]\n",
        "X_test = processed_test[available_features]"
      ],
      "metadata": {
        "id": "-82WNFb1HTta"
      },
      "execution_count": 31,
      "outputs": []
    },
    {
      "cell_type": "code",
      "source": [
        "# Create y for training\n",
        "y_train = processed_train['metastatic_diagnosis_period']"
      ],
      "metadata": {
        "id": "c29RwmelHYQi"
      },
      "execution_count": 32,
      "outputs": []
    },
    {
      "cell_type": "code",
      "source": [
        "# Identify categorical and numerical features\n",
        "categorical_features = []\n",
        "numerical_features = []\n",
        "\n",
        "for feature in available_features:\n",
        "    if feature in X_train.columns:  # Ensure the feature exists\n",
        "        if X_train[feature].dtype == 'object' or X_train[feature].dtype.name == 'category':\n",
        "            categorical_features.append(feature)\n",
        "        elif X_train[feature].dtype in ['int64', 'float64']:\n",
        "            numerical_features.append(feature)\n",
        "\n",
        "print(f\"\\nUsing {len(available_features)} features:\")\n",
        "print(f\"- {len(numerical_features)} numerical features\")\n",
        "print(f\"- {len(categorical_features)} categorical features\")\n"
      ],
      "metadata": {
        "colab": {
          "base_uri": "https://localhost:8080/"
        },
        "id": "HnOHH75wHfQF",
        "outputId": "deab218c-30eb-4747-e4d1-422b699b0cc5"
      },
      "execution_count": 33,
      "outputs": [
        {
          "output_type": "stream",
          "name": "stdout",
          "text": [
            "\n",
            "Using 21 features:\n",
            "- 15 numerical features\n",
            "- 6 categorical features\n"
          ]
        }
      ]
    },
    {
      "cell_type": "markdown",
      "source": [
        "## 4. Build ML Pipeline"
      ],
      "metadata": {
        "id": "JGrFirHPHk-_"
      }
    },
    {
      "cell_type": "code",
      "source": [
        "# Numerical features pipeline with KNN imputation\n",
        "numerical_transformer = Pipeline(steps=[\n",
        "    ('imputer', KNNImputer(n_neighbors=5)),\n",
        "    ('scaler', StandardScaler())\n",
        "])"
      ],
      "metadata": {
        "id": "jNhy89EfHivD"
      },
      "execution_count": 34,
      "outputs": []
    },
    {
      "cell_type": "code",
      "source": [
        "# Categorical features pipeline\n",
        "categorical_transformer = Pipeline(steps=[\n",
        "    ('imputer', SimpleImputer(strategy='most_frequent')),\n",
        "    ('encoder', OneHotEncoder(handle_unknown='ignore', sparse_output=False))\n",
        "])"
      ],
      "metadata": {
        "id": "yLkBK_F-HpfZ"
      },
      "execution_count": 35,
      "outputs": []
    },
    {
      "cell_type": "code",
      "source": [
        "# Column transformer\n",
        "preprocessor = ColumnTransformer(\n",
        "    transformers=[\n",
        "        ('num', numerical_transformer, numerical_features),\n",
        "        ('cat', categorical_transformer, categorical_features)\n",
        "    ],\n",
        "    remainder='drop'  # Drop any columns not specified\n",
        ")\n"
      ],
      "metadata": {
        "id": "N9W259oHHr5Z"
      },
      "execution_count": 36,
      "outputs": []
    },
    {
      "cell_type": "markdown",
      "source": [
        "### Create multiple model pipelines"
      ],
      "metadata": {
        "id": "ull3bZSuHyKJ"
      }
    },
    {
      "cell_type": "code",
      "source": [
        "# 1. LightGBM\n",
        "lgb_pipeline = Pipeline(steps=[\n",
        "    ('preprocessor', preprocessor),\n",
        "    ('model', lgb.LGBMRegressor(objective='regression', n_estimators=200,\n",
        "                                learning_rate=0.05, num_leaves=31,\n",
        "                                random_state=42))\n",
        "])\n",
        "\n",
        "# 2. XGBoost\n",
        "xgb_pipeline = Pipeline(steps=[\n",
        "    ('preprocessor', preprocessor),\n",
        "    ('model', xgb.XGBRegressor(objective='reg:squarederror', n_estimators=200,\n",
        "                              learning_rate=0.05, max_depth=6,\n",
        "                              random_state=42))\n",
        "])\n",
        "\n",
        "# 3. Random Forest\n",
        "rf_pipeline = Pipeline(steps=[\n",
        "    ('preprocessor', preprocessor),\n",
        "    ('model', RandomForestRegressor(n_estimators=200, max_depth=None,\n",
        "                                   min_samples_leaf=1, min_samples_split=2,\n",
        "                                   random_state=42, n_jobs=-1))\n",
        "])\n",
        "\n",
        "# 4. Gradient Boosting\n",
        "gb_pipeline = Pipeline(steps=[\n",
        "    ('preprocessor', preprocessor),\n",
        "    ('model', GradientBoostingRegressor(n_estimators=200, learning_rate=0.05,\n",
        "                                       max_depth=4, subsample=0.8,\n",
        "                                       random_state=42))\n",
        "])\n",
        "\n",
        "pipelines = {\n",
        "    'LightGBM': lgb_pipeline,\n",
        "    'XGBoost': xgb_pipeline,\n",
        "    'RandomForest': rf_pipeline,\n",
        "    'GradientBoosting': gb_pipeline\n",
        "}\n"
      ],
      "metadata": {
        "id": "vloNbnu9Hv3A"
      },
      "execution_count": 37,
      "outputs": []
    },
    {
      "cell_type": "markdown",
      "source": [
        "## 5. Train and evaluate models"
      ],
      "metadata": {
        "id": "ova3vu30H7ZD"
      }
    },
    {
      "cell_type": "code",
      "source": [
        "from sklearn.model_selection import KFold\n",
        "from sklearn.model_selection import cross_val_score"
      ],
      "metadata": {
        "id": "ghReX4cFIU5H"
      },
      "execution_count": 38,
      "outputs": []
    },
    {
      "cell_type": "code",
      "source": [
        "results = {}\n",
        "trained_models = {}\n",
        "cv = KFold(n_splits=5, shuffle=True, random_state=42)\n",
        "\n",
        "for name, pipeline in pipelines.items():\n",
        "    print(f\"\\nTraining and evaluating {name}...\")\n",
        "\n",
        "    # Cross-validation\n",
        "    cv_scores = cross_val_score(\n",
        "        pipeline, X_train, y_train,\n",
        "        cv=cv, scoring='neg_mean_absolute_error',\n",
        "        n_jobs=-1\n",
        "    )\n",
        "\n",
        "    # Convert negative MAE to positive\n",
        "    cv_mae = -cv_scores.mean()\n",
        "    cv_std = cv_scores.std()\n",
        "\n",
        "    print(f\"{name} Cross-Validation MAE: {cv_mae:.2f} ± {cv_std:.2f}\")\n",
        "\n",
        "    # Train on full training data\n",
        "    pipeline.fit(X_train, y_train)\n",
        "\n",
        "    # Store results and trained model\n",
        "    results[name] = {\n",
        "        'CV_MAE': cv_mae,\n",
        "        'CV_STD': cv_std\n",
        "    }\n",
        "\n",
        "    trained_models[name] = pipeline"
      ],
      "metadata": {
        "colab": {
          "base_uri": "https://localhost:8080/"
        },
        "id": "a6q37lP6H5oa",
        "outputId": "84d1ab2d-159b-4315-b33e-32f85e5e8936"
      },
      "execution_count": 39,
      "outputs": [
        {
          "output_type": "stream",
          "name": "stdout",
          "text": [
            "\n",
            "Training and evaluating LightGBM...\n",
            "LightGBM Cross-Validation MAE: 63.10 ± 0.96\n",
            "[LightGBM] [Info] Auto-choosing row-wise multi-threading, the overhead of testing was 0.002018 seconds.\n",
            "You can set `force_row_wise=true` to remove the overhead.\n",
            "And if memory is not enough, you can set `force_col_wise=true`.\n",
            "[LightGBM] [Info] Total Bins 3683\n",
            "[LightGBM] [Info] Number of data points in the train set: 13173, number of used features: 67\n",
            "[LightGBM] [Info] Start training from score 96.515221\n",
            "\n",
            "Training and evaluating XGBoost...\n",
            "XGBoost Cross-Validation MAE: 63.28 ± 1.02\n",
            "\n",
            "Training and evaluating RandomForest...\n",
            "RandomForest Cross-Validation MAE: 67.99 ± 0.98\n",
            "\n",
            "Training and evaluating GradientBoosting...\n",
            "GradientBoosting Cross-Validation MAE: 63.09 ± 1.01\n"
          ]
        }
      ]
    },
    {
      "cell_type": "code",
      "source": [
        "# Create a comparison dataframe\n",
        "results_df = pd.DataFrame({\n",
        "    model: {'CV MAE': results[model]['CV_MAE']} for model in results\n",
        "}).T.sort_values('CV MAE')\n",
        "\n",
        "print(\"\\nModel Comparison:\")\n",
        "print(results_df)"
      ],
      "metadata": {
        "colab": {
          "base_uri": "https://localhost:8080/"
        },
        "id": "4N7eMeTeIM3Y",
        "outputId": "06fac967-0e85-4cc8-86a6-4eab7e22d821"
      },
      "execution_count": 40,
      "outputs": [
        {
          "output_type": "stream",
          "name": "stdout",
          "text": [
            "\n",
            "Model Comparison:\n",
            "                     CV MAE\n",
            "GradientBoosting  63.094116\n",
            "LightGBM          63.102986\n",
            "XGBoost           63.284162\n",
            "RandomForest      67.993229\n"
          ]
        }
      ]
    },
    {
      "cell_type": "code",
      "source": [
        "# Plot results\n",
        "plt.figure(figsize=(10, 6))\n",
        "plt.bar(results_df.index, results_df['CV MAE'], yerr=results_df.index.map(lambda x: results[x]['CV_STD']))\n",
        "plt.title('Model Comparison - Cross-Validation MAE')\n",
        "plt.ylabel('Mean Absolute Error (days)')\n",
        "plt.xticks(rotation=45)\n",
        "plt.grid(axis='y', linestyle='--', alpha=0.7)\n",
        "plt.tight_layout()\n",
        "plt.show()"
      ],
      "metadata": {
        "colab": {
          "base_uri": "https://localhost:8080/",
          "height": 607
        },
        "id": "q1ZNTD_uISH7",
        "outputId": "9591b028-ebcf-4fe0-a43e-63af0fb94de7"
      },
      "execution_count": 41,
      "outputs": [
        {
          "output_type": "display_data",
          "data": {
            "text/plain": [
              "<Figure size 1000x600 with 1 Axes>"
            ],
            "image/png": "[encoded data removed]"
          },
          "metadata": {}
        }
      ]
    },
    {
      "cell_type": "code",
      "source": [],
      "metadata": {
        "id": "tNBtc6Yux5HK"
      },
      "execution_count": null,
      "outputs": []
    },
    {
      "cell_type": "code",
      "source": [
        "# Find the best model\n",
        "best_model_name = results_df.index[0]  # Model with lowest MAE\n",
        "best_model = trained_models[best_model_name]\n",
        "\n",
        "print(f\"\\nBest model: {best_model_name}\")\n"
      ],
      "metadata": {
        "colab": {
          "base_uri": "https://localhost:8080/"
        },
        "id": "XFds7oxrJIxv",
        "outputId": "fc1dad7a-8490-46c4-9ff8-a029de277045"
      },
      "execution_count": 42,
      "outputs": [
        {
          "output_type": "stream",
          "name": "stdout",
          "text": [
            "\n",
            "Best model: GradientBoosting\n"
          ]
        }
      ]
    },
    {
      "cell_type": "markdown",
      "source": [
        "## 6. Analyze Feature Importance"
      ],
      "metadata": {
        "id": "W7HZqZ-xJQuU"
      }
    },
    {
      "cell_type": "code",
      "source": [
        "# Get feature names after preprocessing\n",
        "preprocessor = best_model.named_steps['preprocessor']\n",
        "model = best_model.named_steps['model']"
      ],
      "metadata": {
        "id": "uN8rIjBVJPz5"
      },
      "execution_count": 43,
      "outputs": []
    },
    {
      "cell_type": "code",
      "source": [
        "# Apply preprocessing to get transformed feature names\n",
        "X_train_processed = preprocessor.transform(X_train)"
      ],
      "metadata": {
        "id": "pcInIiNzJUv5"
      },
      "execution_count": 44,
      "outputs": []
    },
    {
      "cell_type": "code",
      "source": [
        "# Get feature names\n",
        "all_feature_names = numerical_features.copy()"
      ],
      "metadata": {
        "id": "0QcSR3rfJYXi"
      },
      "execution_count": 45,
      "outputs": []
    },
    {
      "cell_type": "code",
      "source": [
        "if categorical_features:\n",
        "    # Get the categorical encoder\n",
        "    cat_transformer = preprocessor.named_transformers_.get('cat')\n",
        "    if cat_transformer is not None:\n",
        "        encoder = cat_transformer.named_steps.get('encoder')\n",
        "        if encoder is not None:\n",
        "            # Get encoded feature names\n",
        "            encoded_features = encoder.get_feature_names_out(categorical_features)\n",
        "            all_feature_names.extend(encoded_features)"
      ],
      "metadata": {
        "id": "DMN-fKaTJu-f"
      },
      "execution_count": 46,
      "outputs": []
    },
    {
      "cell_type": "code",
      "source": [
        "# Ensure we have the right number of feature names\n",
        "all_feature_names = all_feature_names[:X_train_processed.shape[1]]"
      ],
      "metadata": {
        "id": "hdjH-swjJwVX"
      },
      "execution_count": 47,
      "outputs": []
    },
    {
      "cell_type": "code",
      "source": [
        "# Get feature importances if the model supports it\n",
        "feature_importances = None\n",
        "if hasattr(model, 'feature_importances_'):\n",
        "    feature_importances = pd.Series(\n",
        "        model.feature_importances_,\n",
        "        index=all_feature_names\n",
        "    ).sort_values(ascending=False)\n",
        "\n",
        "    print(\"\\nTop 15 important features:\")\n",
        "    print(feature_importances.head(15))\n",
        "\n",
        "    # Plot feature importances\n",
        "    plt.figure(figsize=(12, 8))\n",
        "    feature_importances.head(15).plot(kind='barh')\n",
        "    plt.title('Feature Importances')\n",
        "    plt.xlabel('Importance')\n",
        "    plt.tight_layout()\n",
        "    plt.show()\n",
        "else:\n",
        "    print(\"This model doesn't provide feature importances.\")"
      ],
      "metadata": {
        "colab": {
          "base_uri": "https://localhost:8080/",
          "height": 1000
        },
        "id": "aaUzY03JJyk3",
        "outputId": "1513e9ec-7c5e-4d83-8220-09b741651799"
      },
      "execution_count": 48,
      "outputs": [
        {
          "output_type": "stream",
          "name": "stdout",
          "text": [
            "\n",
            "Top 15 important features:\n",
            "diagnosis_code_prefix_C50     0.769318\n",
            "diagnosis_code_prefix_174     0.064573\n",
            "patient_age                   0.039843\n",
            "zip3_encoded                  0.012748\n",
            "rent_burden                   0.007924\n",
            "unemployment_rate             0.007605\n",
            "home_ownership                0.007341\n",
            "education_college_or_above    0.007218\n",
            "temp_mean                     0.006942\n",
            "poverty                       0.005549\n",
            "income_household_median       0.005468\n",
            "ses_score                     0.005279\n",
            "temp_std                      0.004978\n",
            "population                    0.004969\n",
            "health_uninsured              0.004525\n",
            "dtype: float64\n"
          ]
        },
        {
          "output_type": "display_data",
          "data": {
            "text/plain": [
              "<Figure size 1200x800 with 1 Axes>"
            ],
            "image/png": "[encoded data removed]"
          },
          "metadata": {}
        }
      ]
    },
    {
      "cell_type": "markdown",
      "source": [
        "## 7. Generate Predictions for Test Data"
      ],
      "metadata": {
        "id": "oVcTN3p9J3xS"
      }
    },
    {
      "cell_type": "code",
      "source": [
        "predictions = {}"
      ],
      "metadata": {
        "id": "18Vmhq38J1t-"
      },
      "execution_count": 49,
      "outputs": []
    },
    {
      "cell_type": "code",
      "source": [
        "# Generate predictions for each model\n",
        "for name, model in trained_models.items():\n",
        "    predictions[name] = model.predict(X_test)"
      ],
      "metadata": {
        "id": "ts_RPTYcJ8rV"
      },
      "execution_count": 50,
      "outputs": []
    },
    {
      "cell_type": "code",
      "source": [
        "# Create a dataframe with all predictions\n",
        "pred_df = pd.DataFrame({\n",
        "    'patient_id': test_df['patient_id'],\n",
        "})"
      ],
      "metadata": {
        "id": "iOKU1KiZKAPp"
      },
      "execution_count": 51,
      "outputs": []
    },
    {
      "cell_type": "code",
      "source": [
        "# Add predictions from each model\n",
        "for name, preds in predictions.items():\n",
        "    pred_df[f'{name}_prediction'] = preds"
      ],
      "metadata": {
        "id": "UbU58OELKAwQ"
      },
      "execution_count": 52,
      "outputs": []
    },
    {
      "cell_type": "code",
      "source": [
        "# Add ensemble prediction (average of all models)\n",
        "pred_columns = [f'{name}_prediction' for name in trained_models.keys()]\n",
        "pred_df['ensemble_prediction'] = pred_df[pred_columns].mean(axis=1)"
      ],
      "metadata": {
        "id": "8NVP7oEGKEOs"
      },
      "execution_count": 53,
      "outputs": []
    },
    {
      "cell_type": "code",
      "source": [
        "# Create the solution file format with patient_id and metastatic_diagnosis_period\n",
        "solution_df = pd.DataFrame({\n",
        "    'patient_id': test_df['patient_id'],\n",
        "    'metastatic_diagnosis_period': pred_df['ensemble_prediction'].round().astype(int)\n",
        "})\n",
        "\n",
        "print(\"\\nSolution file preview:\")\n",
        "print(solution_df.head())"
      ],
      "metadata": {
        "colab": {
          "base_uri": "https://localhost:8080/"
        },
        "id": "Yegus1dmKG_9",
        "outputId": "77be1956-25c7-4e7c-b7ef-027da97460ff"
      },
      "execution_count": 54,
      "outputs": [
        {
          "output_type": "stream",
          "name": "stdout",
          "text": [
            "\n",
            "Solution file preview:\n",
            "   patient_id  metastatic_diagnosis_period\n",
            "0      730681                          159\n",
            "1      334212                           59\n",
            "2      571362                          210\n",
            "3      907331                          238\n",
            "4      208382                           42\n"
          ]
        }
      ]
    },
    {
      "cell_type": "markdown",
      "source": [
        "## 8. Create detailed visualization of feature importance"
      ],
      "metadata": {
        "id": "gwSFEXVxKxmP"
      }
    },
    {
      "cell_type": "code",
      "source": [
        "if feature_importances is not None:\n",
        "    # Get top features\n",
        "    top_n = 15\n",
        "    top_features = feature_importances.head(top_n)\n",
        "\n",
        "    # Create a more visually appealing plot\n",
        "    plt.figure(figsize=(12, 8))\n",
        "    ax = top_features.sort_values().plot(kind='barh', color='skyblue')\n",
        "\n",
        "    # Add values to the bars\n",
        "    for i, v in enumerate(top_features.sort_values()):\n",
        "        ax.text(v + 0.001, i, f'{v:.4f}', color='black', va='center')\n",
        "\n",
        "    plt.title('Top Features by Importance', fontsize=15)\n",
        "    plt.xlabel('Importance', fontsize=12)\n",
        "    plt.ylabel('Features', fontsize=12)\n",
        "    plt.grid(axis='x', linestyle='--', alpha=0.7)\n",
        "    plt.tight_layout()\n",
        "    plt.show()"
      ],
      "metadata": {
        "colab": {
          "base_uri": "https://localhost:8080/",
          "height": 807
        },
        "id": "nqM4-rHgKvu8",
        "outputId": "8cd5f53e-a892-49cd-becc-949b86d24902"
      },
      "execution_count": 55,
      "outputs": [
        {
          "output_type": "display_data",
          "data": {
            "text/plain": [
              "<Figure size 1200x800 with 1 Axes>"
            ],
            "image/png": "[encoded data removed]"
          },
          "metadata": {}
        }
      ]
    },
    {
      "cell_type": "markdown",
      "source": [
        "## 10. Save the final solution"
      ],
      "metadata": {
        "id": "hYiZKUmpPmBN"
      }
    },
    {
      "cell_type": "code",
      "source": [
        "# Define the path for the new solutions.csv file\n",
        "solution_path = '/content/drive/MyDrive/DS Projects/WiDS/widsdatathon2024-challenge2/solutions.csv'\n",
        "\n",
        "# Save the DataFrame to the new CSV file\n",
        "solution_df.to_csv(solution_path, index=False)\n",
        "print(f\"Tuned solution saved to {solution_path}\")"
      ],
      "metadata": {
        "colab": {
          "base_uri": "https://localhost:8080/"
        },
        "id": "mQKZl7CeL7X5",
        "outputId": "b9c392e0-1791-42fb-c87d-714aa05f95d9"
      },
      "execution_count": 56,
      "outputs": [
        {
          "output_type": "stream",
          "name": "stdout",
          "text": [
            "Tuned solution saved to /content/drive/MyDrive/DS Projects/WiDS/widsdatathon2024-challenge2/solutions.csv\n"
          ]
        }
      ]
    }
  ]
}